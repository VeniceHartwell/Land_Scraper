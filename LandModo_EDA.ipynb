{
 "cells": [
  {
   "cell_type": "markdown",
   "id": "abf115b5",
   "metadata": {},
   "source": [
    "# Project II: Pipelines (Parcel Estimator Tool)\n",
    "\n",
    "## Purpose\n",
    "The Parcel Estimator tool returns the following parcel data based on zip code:\n",
    "- Average price per acre.\n",
    "- Average price.\n",
    "- average acreage.\n",
    "- Most popular seller.\n",
    "- listing popularity for the area.\n",
    "\n",
    "\n",
    "## How to Use\n",
    "Replace the variable \"zip\" with your given zip code and run all lines of code. The csv and charts exported will be found in the output folder.\n",
    "\n",
    "\n",
    "## Tool Functionality\n",
    "1. Import: Import previous tool data. \n",
    "2. Scrape: Scrape Landmodo for parcel data into dataframe.\n",
    "3. Clean: Clean dataframe's new rows.\n",
    "4. Visualize: Plot charts, identifying the differences in key metrics.\n",
    "5. Export: Export dataframe as CSV and charts as PNG files.\n",
    "\n",
    "\n",
    "## Resources\n",
    "- Dataset: import previous csv's to compare.\n",
    "- Landmodo: landmodo.com\n",
    "- Libraries: Pandas, Numpy, BeautifulSoup, Matplotlib, Plotly"
   ]
  },
  {
   "cell_type": "markdown",
   "id": "98afea79",
   "metadata": {},
   "source": [
    "## 1. Import previous tool data."
   ]
  },
  {
   "cell_type": "code",
   "execution_count": 1,
   "id": "72188745",
   "metadata": {},
   "outputs": [
    {
     "data": {
      "text/plain": [
       "'/Users/venice/Downloads/1.DS/projects/project-2-pipeline'"
      ]
     },
     "execution_count": 1,
     "metadata": {},
     "output_type": "execute_result"
    }
   ],
   "source": [
    "pwd"
   ]
  },
  {
   "cell_type": "code",
   "execution_count": 2,
   "id": "2537a146",
   "metadata": {},
   "outputs": [
    {
     "data": {
      "text/html": [
       "<div>\n",
       "<style scoped>\n",
       "    .dataframe tbody tr th:only-of-type {\n",
       "        vertical-align: middle;\n",
       "    }\n",
       "\n",
       "    .dataframe tbody tr th {\n",
       "        vertical-align: top;\n",
       "    }\n",
       "\n",
       "    .dataframe thead th {\n",
       "        text-align: right;\n",
       "    }\n",
       "</style>\n",
       "<table border=\"1\" class=\"dataframe\">\n",
       "  <thead>\n",
       "    <tr style=\"text-align: right;\">\n",
       "      <th></th>\n",
       "      <th>Zip Code</th>\n",
       "      <th>Location</th>\n",
       "      <th>State</th>\n",
       "      <th>Country</th>\n",
       "      <th>Parcel Size (acres)</th>\n",
       "      <th>Parcel Price</th>\n",
       "      <th>Listing Name</th>\n",
       "      <th>Listing Author</th>\n",
       "      <th>Post Date</th>\n",
       "    </tr>\n",
       "  </thead>\n",
       "  <tbody>\n",
       "    <tr>\n",
       "      <th>0</th>\n",
       "      <td>79847</td>\n",
       "      <td>Cornudas</td>\n",
       "      <td>TX</td>\n",
       "      <td>USA</td>\n",
       "      <td>20.18</td>\n",
       "      <td>$18,000.00</td>\n",
       "      <td>LAND FOR SALE: How to grow Old &amp; Rich together</td>\n",
       "      <td>LandJakes</td>\n",
       "      <td>04/14/2022</td>\n",
       "    </tr>\n",
       "  </tbody>\n",
       "</table>\n",
       "</div>"
      ],
      "text/plain": [
       "   Zip Code  Location State Country  Parcel Size (acres) Parcel Price  \\\n",
       "0     79847  Cornudas    TX     USA                20.18   $18,000.00   \n",
       "\n",
       "                                     Listing Name Listing Author   Post Date  \n",
       "0  LAND FOR SALE: How to grow Old & Rich together      LandJakes  04/14/2022  "
      ]
     },
     "execution_count": 2,
     "metadata": {},
     "output_type": "execute_result"
    }
   ],
   "source": [
    "# Import general libraries\n",
    "import pandas as pd\n",
    "import numpy as np\n",
    "from datetime import date\n",
    "\n",
    "# import libraries necessary for web scraping\n",
    "import requests\n",
    "from bs4 import BeautifulSoup\n",
    "from urllib.request import urlopen\n",
    "import re\n",
    "\n",
    "# Import data cleaning and enriching file\n",
    "from src.cleaning import*\n",
    "\n",
    "# This code ignores warnings from Pandas not to overwrite data ;)\n",
    "pd.options.mode.chained_assignment = None\n",
    "\n",
    "# import and check csv file\n",
    "df = pd.read_csv ('input/LandModo_Data.csv', encoding='latin')\n",
    "#df.sample(5)\n",
    "df"
   ]
  },
  {
   "cell_type": "code",
   "execution_count": 3,
   "id": "222bb2bb",
   "metadata": {},
   "outputs": [
    {
     "name": "stdout",
     "output_type": "stream",
     "text": [
      "Missing values:\n",
      "\n",
      "Zip Code               0\n",
      "Location               0\n",
      "State                  0\n",
      "Country                0\n",
      "Parcel Size (acres)    0\n",
      "Parcel Price           0\n",
      "Listing Name           0\n",
      "Listing Author         0\n",
      "Post Date              0\n",
      "dtype: int64\n",
      "\n",
      "Total values:\n",
      "\n",
      "Zip Code               1\n",
      "Location               1\n",
      "State                  1\n",
      "Country                1\n",
      "Parcel Size (acres)    1\n",
      "Parcel Price           1\n",
      "Listing Name           1\n",
      "Listing Author         1\n",
      "Post Date              1\n",
      "dtype: int64\n"
     ]
    }
   ],
   "source": [
    "# Check if all/how many rows are filled\n",
    "missing_vals(df)"
   ]
  },
  {
   "cell_type": "markdown",
   "id": "9bab7129",
   "metadata": {},
   "source": [
    "## 2. Scrape Landmodo for parcel data."
   ]
  },
  {
   "cell_type": "markdown",
   "id": "72ec7b90",
   "metadata": {},
   "source": [
    "### Request zip code to search."
   ]
  },
  {
   "cell_type": "code",
   "execution_count": 4,
   "id": "77e49f87",
   "metadata": {},
   "outputs": [
    {
     "name": "stdout",
     "output_type": "stream",
     "text": [
      "Enter valid 5-digit Zip Code to search: 79847\n"
     ]
    }
   ],
   "source": [
    "# Request zip code input from the user, check if input is a 5 digit int\n",
    "zip_code = input_zip() # test zip: 79847"
   ]
  },
  {
   "cell_type": "markdown",
   "id": "99b59ab5",
   "metadata": {},
   "source": [
    "### What information do I need to save?\n",
    "9 criteria: Zip Code, Location, State, Country, parcel size (acres), parcel price, listing name, listing author, posting date"
   ]
  },
  {
   "cell_type": "markdown",
   "id": "59a6cf35",
   "metadata": {},
   "source": [
    "### Input zip code and loop through all pages."
   ]
  },
  {
   "cell_type": "code",
   "execution_count": 13,
   "id": "10e4d1d0",
   "metadata": {},
   "outputs": [
    {
     "data": {
      "text/html": [
       "<div>\n",
       "<style scoped>\n",
       "    .dataframe tbody tr th:only-of-type {\n",
       "        vertical-align: middle;\n",
       "    }\n",
       "\n",
       "    .dataframe tbody tr th {\n",
       "        vertical-align: top;\n",
       "    }\n",
       "\n",
       "    .dataframe thead th {\n",
       "        text-align: right;\n",
       "    }\n",
       "</style>\n",
       "<table border=\"1\" class=\"dataframe\">\n",
       "  <thead>\n",
       "    <tr style=\"text-align: right;\">\n",
       "      <th></th>\n",
       "      <th>Zip Code</th>\n",
       "      <th>Location</th>\n",
       "      <th>State</th>\n",
       "      <th>Country</th>\n",
       "      <th>Parcel Size (acres)</th>\n",
       "      <th>Parcel Price</th>\n",
       "      <th>Listing Name</th>\n",
       "      <th>Listing Author</th>\n",
       "      <th>Post Date</th>\n",
       "    </tr>\n",
       "  </thead>\n",
       "  <tbody>\n",
       "    <tr>\n",
       "      <th>0</th>\n",
       "      <td>79847</td>\n",
       "      <td>Cornudas</td>\n",
       "      <td>TX</td>\n",
       "      <td>USA</td>\n",
       "      <td>20.18</td>\n",
       "      <td>$18,000.00</td>\n",
       "      <td>LAND FOR SALE: How to grow Old &amp; Rich together</td>\n",
       "      <td>LandJakes</td>\n",
       "      <td>04/14/2022</td>\n",
       "    </tr>\n",
       "    <tr>\n",
       "      <th>0</th>\n",
       "      <td>79847</td>\n",
       "      <td>Cornudas</td>\n",
       "      <td>TX</td>\n",
       "      <td>USA</td>\n",
       "      <td>20.18</td>\n",
       "      <td>$18,000.00</td>\n",
       "      <td>LAND FOR SALE – How to grow Old &amp; Rich togethe...</td>\n",
       "      <td>LandJakes</td>\n",
       "      <td>04/14/2022</td>\n",
       "    </tr>\n",
       "    <tr>\n",
       "      <th>1</th>\n",
       "      <td>79847</td>\n",
       "      <td>Cornudas</td>\n",
       "      <td>TX</td>\n",
       "      <td>USA</td>\n",
       "      <td>20.00</td>\n",
       "      <td>$18,000.00</td>\n",
       "      <td>Invest 20 Acres or Neighboring Lots in Cornuda...</td>\n",
       "      <td>LandJakes</td>\n",
       "      <td>03/04/2022</td>\n",
       "    </tr>\n",
       "    <tr>\n",
       "      <th>2</th>\n",
       "      <td>79847</td>\n",
       "      <td>Cornudas</td>\n",
       "      <td>TX</td>\n",
       "      <td>USA</td>\n",
       "      <td>20.00</td>\n",
       "      <td>$18,000.00</td>\n",
       "      <td>Invest 20 Acres Land in Hudspeth County, TX. N...</td>\n",
       "      <td>LandJakes</td>\n",
       "      <td>03/04/2022</td>\n",
       "    </tr>\n",
       "    <tr>\n",
       "      <th>3</th>\n",
       "      <td>79847</td>\n",
       "      <td>Cornudas</td>\n",
       "      <td>TX</td>\n",
       "      <td>USA</td>\n",
       "      <td>20.00</td>\n",
       "      <td>$20,000.00</td>\n",
       "      <td>Summery Living in The Sunny Texas! Own 20 Acre...</td>\n",
       "      <td>LandJakes</td>\n",
       "      <td>03/04/2022</td>\n",
       "    </tr>\n",
       "    <tr>\n",
       "      <th>4</th>\n",
       "      <td>79847</td>\n",
       "      <td>Cornudas</td>\n",
       "      <td>TX</td>\n",
       "      <td>USA</td>\n",
       "      <td>20.00</td>\n",
       "      <td>$18,000.00</td>\n",
       "      <td>Invest 20 Acres or Neighboring Lots in Cornuda...</td>\n",
       "      <td>LandJakes</td>\n",
       "      <td>02/10/2022</td>\n",
       "    </tr>\n",
       "    <tr>\n",
       "      <th>5</th>\n",
       "      <td>79847</td>\n",
       "      <td>Cornudas</td>\n",
       "      <td>TX</td>\n",
       "      <td>USA</td>\n",
       "      <td>18.00</td>\n",
       "      <td>$18,000.00</td>\n",
       "      <td>Invest 20 Acres Land in Hudspeth County, TX. N...</td>\n",
       "      <td>LandJakes</td>\n",
       "      <td>02/10/2022</td>\n",
       "    </tr>\n",
       "  </tbody>\n",
       "</table>\n",
       "</div>"
      ],
      "text/plain": [
       "  Zip Code  Location State Country Parcel Size (acres) Parcel Price  \\\n",
       "0    79847  Cornudas    TX     USA               20.18   $18,000.00   \n",
       "0    79847  Cornudas    TX     USA               20.18   $18,000.00   \n",
       "1    79847  Cornudas    TX     USA               20.00   $18,000.00   \n",
       "2    79847  Cornudas    TX     USA               20.00   $18,000.00   \n",
       "3    79847  Cornudas    TX     USA               20.00   $20,000.00   \n",
       "4    79847  Cornudas    TX     USA               20.00   $18,000.00   \n",
       "5    79847  Cornudas    TX     USA               18.00   $18,000.00   \n",
       "\n",
       "                                        Listing Name Listing Author  \\\n",
       "0     LAND FOR SALE: How to grow Old & Rich together      LandJakes   \n",
       "0  LAND FOR SALE – How to grow Old & Rich togethe...      LandJakes   \n",
       "1  Invest 20 Acres or Neighboring Lots in Cornuda...      LandJakes   \n",
       "2  Invest 20 Acres Land in Hudspeth County, TX. N...      LandJakes   \n",
       "3  Summery Living in The Sunny Texas! Own 20 Acre...      LandJakes   \n",
       "4  Invest 20 Acres or Neighboring Lots in Cornuda...      LandJakes   \n",
       "5  Invest 20 Acres Land in Hudspeth County, TX. N...      LandJakes   \n",
       "\n",
       "    Post Date  \n",
       "0  04/14/2022  \n",
       "0  04/14/2022  \n",
       "1  03/04/2022  \n",
       "2  03/04/2022  \n",
       "3  03/04/2022  \n",
       "4  02/10/2022  \n",
       "5  02/10/2022  "
      ]
     },
     "execution_count": 13,
     "metadata": {},
     "output_type": "execute_result"
    }
   ],
   "source": [
    "# Set up the Landmodo url to scrape\n",
    "pg = 1 # set page value to 1\n",
    "url = f'https://www.landmodo.com/properties?page={pg}&q={zip_code}&property_status=Land+for+Sale'\n",
    "\n",
    "# Loop through pages\n",
    "while empty_page(url) is False:\n",
    "    dfnew = pd.concat([df, new_search(url)], axis=0)\n",
    "    pg +=1\n",
    "    url = f'https://www.landmodo.com/properties?page={pg}&q={zip_code}&property_status=Land+for+Sale'\n",
    "dfnew"
   ]
  },
  {
   "cell_type": "code",
   "execution_count": 18,
   "id": "1fff2304",
   "metadata": {},
   "outputs": [],
   "source": [
    "# If no parcel data is found for the input zip code, request user to restart the tool.\n",
    "if len(dfnew) == len(df):\n",
    "    print('This zip code has no matches. Please restart the tool to try another zip code.')"
   ]
  },
  {
   "cell_type": "markdown",
   "id": "d97612b0",
   "metadata": {},
   "source": [
    "## 3. Cleaning\n",
    "See \"cleaning.py\" in the \"src\" folder. All cleaning is done inside of a separate cleaning file.\n",
    "\n",
    "### Additional cleaning:\n",
    "- Data with incorrect zip codes removed.\n",
    "- Searches with zero hits warn the user of such.\n",
    "- Missing values are replaced with null."
   ]
  },
  {
   "cell_type": "markdown",
   "id": "50569ad7",
   "metadata": {},
   "source": [
    "## 4. Visualize\n",
    "\n",
    "Important information to chart:\n",
    "- Average price, acreage per zip\n",
    "- Price, Acreage range per zip\n",
    "- Zip code heat map (by hits, by price per acre)\n",
    "- previous charts, by state or sub-state county\n",
    "\n",
    "### See \"Visualization.ipynb\" for continuation."
   ]
  },
  {
   "cell_type": "markdown",
   "id": "13766793",
   "metadata": {},
   "source": [
    "## 5. Export dataframe for use in Visualization file."
   ]
  },
  {
   "cell_type": "code",
   "execution_count": 26,
   "id": "ba59e0d2",
   "metadata": {},
   "outputs": [],
   "source": [
    "dfnew.to_csv(f'output/landmodo_search_{date.today()}.csv', index=\"False\")"
   ]
  }
 ],
 "metadata": {
  "kernelspec": {
   "display_name": "Python 3 (ipykernel)",
   "language": "python",
   "name": "python3"
  },
  "language_info": {
   "codemirror_mode": {
    "name": "ipython",
    "version": 3
   },
   "file_extension": ".py",
   "mimetype": "text/x-python",
   "name": "python",
   "nbconvert_exporter": "python",
   "pygments_lexer": "ipython3",
   "version": "3.9.12"
  }
 },
 "nbformat": 4,
 "nbformat_minor": 5
}
